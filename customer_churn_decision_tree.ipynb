{
 "cells": [
  {
   "cell_type": "markdown",
   "metadata": {},
   "source": [
    "# 📌 Customer Churn Prediction (SME Corporate)\n",
    "This notebook trains a **Decision Tree** model to predict customer churn based on SME customer data.\n",
    "- **Churn (1)** → Customer left\n",
    "- **No Churn (0)** → Customer stayed\n",
    "\n",
    "**Steps Covered:**\n",
    "1. Load & Explore Data 📊\n",
    "2. Preprocessing 🛠️\n",
    "3. Train Decision Tree 🌳\n",
    "4. Evaluate Performance 📈\n",
    "5. Save Model for FastAPI Integration 🚀"
   ]
  },
  {
   "cell_type": "code",
   "execution_count": 12,
   "metadata": {},
   "outputs": [
    {
     "data": {
      "text/html": [
       "<div>\n",
       "<style scoped>\n",
       "    .dataframe tbody tr th:only-of-type {\n",
       "        vertical-align: middle;\n",
       "    }\n",
       "\n",
       "    .dataframe tbody tr th {\n",
       "        vertical-align: top;\n",
       "    }\n",
       "\n",
       "    .dataframe thead th {\n",
       "        text-align: right;\n",
       "    }\n",
       "</style>\n",
       "<table border=\"1\" class=\"dataframe\">\n",
       "  <thead>\n",
       "    <tr style=\"text-align: right;\">\n",
       "      <th></th>\n",
       "      <th>Customer_ID</th>\n",
       "      <th>Company_Size</th>\n",
       "      <th>Contract_Length</th>\n",
       "      <th>Monthly_Bill</th>\n",
       "      <th>Payment_History</th>\n",
       "      <th>Support_Tickets</th>\n",
       "      <th>Product_Usage</th>\n",
       "      <th>Churn</th>\n",
       "    </tr>\n",
       "  </thead>\n",
       "  <tbody>\n",
       "    <tr>\n",
       "      <th>0</th>\n",
       "      <td>1</td>\n",
       "      <td>Small</td>\n",
       "      <td>17</td>\n",
       "      <td>142.63</td>\n",
       "      <td>Good</td>\n",
       "      <td>3</td>\n",
       "      <td>0.59</td>\n",
       "      <td>0</td>\n",
       "    </tr>\n",
       "    <tr>\n",
       "      <th>1</th>\n",
       "      <td>2</td>\n",
       "      <td>Medium</td>\n",
       "      <td>9</td>\n",
       "      <td>100.36</td>\n",
       "      <td>Good</td>\n",
       "      <td>1</td>\n",
       "      <td>0.35</td>\n",
       "      <td>0</td>\n",
       "    </tr>\n",
       "    <tr>\n",
       "      <th>2</th>\n",
       "      <td>3</td>\n",
       "      <td>Small</td>\n",
       "      <td>33</td>\n",
       "      <td>171.39</td>\n",
       "      <td>Average</td>\n",
       "      <td>3</td>\n",
       "      <td>0.91</td>\n",
       "      <td>1</td>\n",
       "    </tr>\n",
       "    <tr>\n",
       "      <th>3</th>\n",
       "      <td>4</td>\n",
       "      <td>Small</td>\n",
       "      <td>20</td>\n",
       "      <td>75.69</td>\n",
       "      <td>Good</td>\n",
       "      <td>0</td>\n",
       "      <td>0.29</td>\n",
       "      <td>0</td>\n",
       "    </tr>\n",
       "    <tr>\n",
       "      <th>4</th>\n",
       "      <td>5</td>\n",
       "      <td>Small</td>\n",
       "      <td>13</td>\n",
       "      <td>289.03</td>\n",
       "      <td>Average</td>\n",
       "      <td>2</td>\n",
       "      <td>0.90</td>\n",
       "      <td>0</td>\n",
       "    </tr>\n",
       "  </tbody>\n",
       "</table>\n",
       "</div>"
      ],
      "text/plain": [
       "   Customer_ID Company_Size  Contract_Length  Monthly_Bill Payment_History  \\\n",
       "0            1        Small               17        142.63            Good   \n",
       "1            2       Medium                9        100.36            Good   \n",
       "2            3        Small               33        171.39         Average   \n",
       "3            4        Small               20         75.69            Good   \n",
       "4            5        Small               13        289.03         Average   \n",
       "\n",
       "   Support_Tickets  Product_Usage  Churn  \n",
       "0                3           0.59      0  \n",
       "1                1           0.35      0  \n",
       "2                3           0.91      1  \n",
       "3                0           0.29      0  \n",
       "4                2           0.90      0  "
      ]
     },
     "execution_count": 12,
     "metadata": {},
     "output_type": "execute_result"
    }
   ],
   "source": [
    "# ✅ Import Required Libraries\n",
    "import pandas as pd\n",
    "import numpy as np\n",
    "import pickle\n",
    "from sklearn.model_selection import train_test_split\n",
    "from sklearn.preprocessing import StandardScaler\n",
    "from sklearn.tree import DecisionTreeClassifier\n",
    "from sklearn.metrics import accuracy_score, classification_report, confusion_matrix\n",
    "from imblearn.over_sampling import SMOTE \n",
    "# Load Dataset\n",
    "df = pd.read_csv('sme_customer_churn.csv')\n",
    "\n",
    "# Display first few rows\n",
    "df.head()"
   ]
  },
  {
   "cell_type": "markdown",
   "metadata": {},
   "source": [
    "## 🛠️ Data Preprocessing\n",
    "- Convert categorical variables to numerical values\n",
    "- Split data into training & testing sets"
   ]
  },
  {
   "cell_type": "code",
   "execution_count": 22,
   "metadata": {},
   "outputs": [
    {
     "name": "stdout",
     "output_type": "stream",
     "text": [
      "Original Class Distribution:\n",
      " Churn\n",
      "0    561\n",
      "1    239\n",
      "Name: count, dtype: int64\n",
      "After SMOTE Class Distribution:\n",
      " Churn\n",
      "0    561\n",
      "1    561\n",
      "Name: count, dtype: int64\n"
     ]
    }
   ],
   "source": [
    "from sklearn.model_selection import train_test_split\n",
    "from sklearn.preprocessing import LabelEncoder\n",
    "\n",
    "# Encode categorical variables\n",
    "encoder = LabelEncoder()\n",
    "df['Company_Size'] = encoder.fit_transform(df['Company_Size'])\n",
    "df['Payment_History'] = encoder.fit_transform(df['Payment_History'])\n",
    "\n",
    "# ✅ 3. Define Features (X) & Target (y)\n",
    "X = df.drop(columns=['Customer_ID', 'Churn'])  # Drop irrelevant columns\n",
    "y = df['Churn']\n",
    "\n",
    "# ✅ 4. Split Data into Training & Testing Sets\n",
    "X_train, X_test, y_train, y_test = train_test_split(X, y, test_size=0.2, random_state=42)\n",
    "\n",
    "print(\"Original Class Distribution:\\n\", y_train.value_counts())\n",
    "\n",
    "# ✅ 5. Apply SMOTE to Balance the Classes\n",
    "smote = SMOTE(sampling_strategy='auto', random_state=42)\n",
    "X_train_resampled, y_train_resampled = smote.fit_resample(X_train, y_train)\n",
    "\n",
    "print(\"After SMOTE Class Distribution:\\n\", y_train_resampled.value_counts())"
   ]
  },
  {
   "cell_type": "markdown",
   "metadata": {},
   "source": [
    "## 🌳 Train Decision Tree Model"
   ]
  },
  {
   "cell_type": "markdown",
   "metadata": {},
   "source": []
  },
  {
   "cell_type": "code",
   "execution_count": 25,
   "metadata": {},
   "outputs": [
    {
     "name": "stdout",
     "output_type": "stream",
     "text": [
      "\n",
      "✅ Accuracy after SMOTE: 0.54\n",
      "\n",
      "🔹 Classification Report:\n",
      "               precision    recall  f1-score   support\n",
      "\n",
      "           0       0.78      0.53      0.63       150\n",
      "           1       0.28      0.54      0.37        50\n",
      "\n",
      "    accuracy                           0.54       200\n",
      "   macro avg       0.53      0.54      0.50       200\n",
      "weighted avg       0.65      0.54      0.57       200\n",
      "\n",
      "\n",
      "🔹 Confusion Matrix:\n",
      " [[80 70]\n",
      " [23 27]]\n",
      "\n",
      "✅ Model saved as 'decision_tree_model.pkl'\n"
     ]
    }
   ],
   "source": [
    "# ✅ 6. Train Decision Tree Model\n",
    "model = DecisionTreeClassifier(max_depth=5, random_state=42)\n",
    "model.fit(X_train_resampled, y_train_resampled)\n",
    "\n",
    "# ✅ 7. Make Predictions\n",
    "y_pred = model.predict(X_test)\n",
    "\n",
    "# ✅ 8. Evaluate Model Performance\n",
    "accuracy = accuracy_score(y_test, y_pred)\n",
    "report = classification_report(y_test, y_pred)\n",
    "conf_matrix = confusion_matrix(y_test, y_pred)\n",
    "\n",
    "print(f\"\\n✅ Accuracy after SMOTE: {accuracy:.2f}\")\n",
    "print(\"\\n🔹 Classification Report:\\n\", report)\n",
    "print(\"\\n🔹 Confusion Matrix:\\n\", conf_matrix)\n",
    "\n",
    "# ✅ 9. Save Model Using Pickle\n",
    "with open(\"decision_tree_model.pkl\", \"wb\") as file:\n",
    "    pickle.dump(model, file)\n",
    "\n",
    "print(\"\\n✅ Model saved as 'decision_tree_model.pkl'\")\n",
    "\n"
   ]
  },
  {
   "cell_type": "markdown",
   "metadata": {},
   "source": [
    "## 📈 Model Evaluation"
   ]
  },
  {
   "cell_type": "code",
   "execution_count": 16,
   "metadata": {},
   "outputs": [
    {
     "name": "stdout",
     "output_type": "stream",
     "text": [
      "Accuracy: 0.58\n",
      "\n",
      "Classification Report:\n",
      "               precision    recall  f1-score   support\n",
      "\n",
      "           0       0.68      0.37      0.48       149\n",
      "           1       0.54      0.81      0.65       136\n",
      "\n",
      "    accuracy                           0.58       285\n",
      "   macro avg       0.61      0.59      0.56       285\n",
      "weighted avg       0.61      0.58      0.56       285\n",
      "\n",
      "\n",
      "Confusion Matrix:\n",
      " [[ 55  94]\n",
      " [ 26 110]]\n"
     ]
    }
   ],
   "source": [
    "\n",
    "# ✅ Evaluate Model\n",
    "accuracy = accuracy_score(y_test, y_pred)\n",
    "report = classification_report(y_test, y_pred)\n",
    "conf_matrix = confusion_matrix(y_test, y_pred)\n",
    "\n",
    "print(f\"Accuracy: {accuracy:.2f}\")\n",
    "print(\"\\nClassification Report:\\n\", report)\n",
    "print(\"\\nConfusion Matrix:\\n\", conf_matrix)"
   ]
  },
  {
   "cell_type": "code",
   "execution_count": 10,
   "metadata": {},
   "outputs": [
    {
     "name": "stdout",
     "output_type": "stream",
     "text": [
      "Feature Names: ['Company_Size', 'Contract_Length', 'Monthly_Bill', 'Payment_History', 'Support_Tickets', 'Product_Usage']\n"
     ]
    }
   ],
   "source": [
    "# Assuming X_train was a pandas DataFrame\n",
    "print(\"Feature Names:\", list(X_train.columns))"
   ]
  },
  {
   "cell_type": "markdown",
   "metadata": {},
   "source": [
    "## 💾 Save Model for FastAPI"
   ]
  },
  {
   "cell_type": "code",
   "execution_count": 9,
   "metadata": {},
   "outputs": [
    {
     "name": "stdout",
     "output_type": "stream",
     "text": [
      "Model saved using pickle!\n"
     ]
    }
   ],
   "source": [
    "import pickle\n",
    "# ✅ Save Model Using pickle\n",
    "with open(\"decison_tree_model\", \"wb\") as file:\n",
    "    pickle.dump(model, file)\n",
    "\n",
    "print(\"Model saved using pickle!\")"
   ]
  }
 ],
 "metadata": {
  "kernelspec": {
   "display_name": "venv_backend",
   "language": "python",
   "name": "python3"
  },
  "language_info": {
   "codemirror_mode": {
    "name": "ipython",
    "version": 3
   },
   "file_extension": ".py",
   "mimetype": "text/x-python",
   "name": "python",
   "nbconvert_exporter": "python",
   "pygments_lexer": "ipython3",
   "version": "3.11.0"
  }
 },
 "nbformat": 4,
 "nbformat_minor": 4
}
